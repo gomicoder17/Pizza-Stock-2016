{
 "cells": [
  {
   "cell_type": "markdown",
   "metadata": {},
   "source": [
    "## Import Libraries"
   ]
  },
  {
   "cell_type": "code",
   "execution_count": 1,
   "metadata": {},
   "outputs": [],
   "source": [
    "import pandas as pd\n",
    "import re\n",
    "import numpy as np\n",
    "import json\n",
    "already_multiplied = False"
   ]
  },
  {
   "cell_type": "markdown",
   "metadata": {},
   "source": [
    "## Extract Data"
   ]
  },
  {
   "cell_type": "code",
   "execution_count": 2,
   "metadata": {},
   "outputs": [],
   "source": [
    "orders = pd.read_csv(\"data/orders_2016.csv\", encoding=\"latin-1\",delimiter=\";\")\n",
    "order_details = pd.read_csv(\"data/order_details_2016.csv\", encoding=\"latin-1\",delimiter=\";\")\n",
    "pizza_ingredients = pd.read_csv(\"data/pizza_types.csv\", encoding=\"latin-1\")"
   ]
  },
  {
   "cell_type": "markdown",
   "metadata": {},
   "source": [
    "### Informe Calidad de Datos"
   ]
  },
  {
   "cell_type": "code",
   "execution_count": 3,
   "metadata": {},
   "outputs": [],
   "source": [
    "informe = {\"orders\":{},\"order_details\":{},\"pizza_types\":{}}"
   ]
  },
  {
   "cell_type": "markdown",
   "metadata": {},
   "source": [
    "#### orders.csv"
   ]
  },
  {
   "cell_type": "code",
   "execution_count": 4,
   "metadata": {},
   "outputs": [
    {
     "data": {
      "text/html": [
       "<div>\n",
       "<style scoped>\n",
       "    .dataframe tbody tr th:only-of-type {\n",
       "        vertical-align: middle;\n",
       "    }\n",
       "\n",
       "    .dataframe tbody tr th {\n",
       "        vertical-align: top;\n",
       "    }\n",
       "\n",
       "    .dataframe thead th {\n",
       "        text-align: right;\n",
       "    }\n",
       "</style>\n",
       "<table border=\"1\" class=\"dataframe\">\n",
       "  <thead>\n",
       "    <tr style=\"text-align: right;\">\n",
       "      <th></th>\n",
       "      <th>order_id</th>\n",
       "      <th>date</th>\n",
       "      <th>time</th>\n",
       "    </tr>\n",
       "  </thead>\n",
       "  <tbody>\n",
       "    <tr>\n",
       "      <th>0</th>\n",
       "      <td>8886</td>\n",
       "      <td>May 29 2016</td>\n",
       "      <td>18:58 PM</td>\n",
       "    </tr>\n",
       "    <tr>\n",
       "      <th>1</th>\n",
       "      <td>11424</td>\n",
       "      <td>2016-07-10</td>\n",
       "      <td>14:36:32</td>\n",
       "    </tr>\n",
       "    <tr>\n",
       "      <th>2</th>\n",
       "      <td>19361</td>\n",
       "      <td>Saturday,26 November, 2016</td>\n",
       "      <td>18:42 PM</td>\n",
       "    </tr>\n",
       "    <tr>\n",
       "      <th>3</th>\n",
       "      <td>4489</td>\n",
       "      <td>2016-03-17</td>\n",
       "      <td>NaN</td>\n",
       "    </tr>\n",
       "    <tr>\n",
       "      <th>4</th>\n",
       "      <td>6838</td>\n",
       "      <td>NaN</td>\n",
       "      <td>15:09:12</td>\n",
       "    </tr>\n",
       "  </tbody>\n",
       "</table>\n",
       "</div>"
      ],
      "text/plain": [
       "   order_id                        date      time\n",
       "0      8886                 May 29 2016  18:58 PM\n",
       "1     11424                  2016-07-10  14:36:32\n",
       "2     19361  Saturday,26 November, 2016  18:42 PM\n",
       "3      4489                  2016-03-17       NaN\n",
       "4      6838                         NaN  15:09:12"
      ]
     },
     "execution_count": 4,
     "metadata": {},
     "output_type": "execute_result"
    }
   ],
   "source": [
    "informe[\"orders\"][\"desciption\"] = \"csv with every order made in 2016\"\n",
    "informe[\"orders\"][\"n_rows\"] = orders.shape[0]\n",
    "informe[\"orders\"][\"n_columns\"] = orders.shape[1]\n",
    "informe[\"orders\"][\"columns\"] = {}\n",
    "orders.head()"
   ]
  },
  {
   "cell_type": "markdown",
   "metadata": {},
   "source": [
    "order_id"
   ]
  },
  {
   "cell_type": "code",
   "execution_count": 5,
   "metadata": {},
   "outputs": [],
   "source": [
    "informe[\"orders\"][\"columns\"][\"order_id\"] = {}\n",
    "informe[\"orders\"][\"columns\"][\"order_id\"][\"description\"] = \"unique id for each order\"\n",
    "informe[\"orders\"][\"columns\"][\"order_id\"][\"n_nulls\"] = orders[\"order_id\"].isnull().sum()\n",
    "informe[\"orders\"][\"columns\"][\"order_id\"][\"n_unique\"] = orders[\"order_id\"].nunique()"
   ]
  },
  {
   "cell_type": "markdown",
   "metadata": {},
   "source": [
    "date"
   ]
  },
  {
   "cell_type": "code",
   "execution_count": 6,
   "metadata": {},
   "outputs": [],
   "source": [
    "informe[\"orders\"][\"columns\"][\"date\"] = {}\n",
    "informe[\"orders\"][\"columns\"][\"date\"][\"description\"] = \"date of the order\"\n",
    "informe[\"orders\"][\"columns\"][\"date\"][\"n_nulls\"] = orders[\"date\"].isnull().sum()\n",
    "informe[\"orders\"][\"columns\"][\"date\"][\"n_unique\"] = orders[\"date\"].nunique()"
   ]
  },
  {
   "cell_type": "markdown",
   "metadata": {},
   "source": [
    "time"
   ]
  },
  {
   "cell_type": "code",
   "execution_count": 7,
   "metadata": {},
   "outputs": [],
   "source": [
    "informe[\"orders\"][\"columns\"][\"time\"] = {}\n",
    "informe[\"orders\"][\"columns\"][\"time\"][\"description\"] = \"exact time of the order\"\n",
    "informe[\"orders\"][\"columns\"][\"time\"][\"n_nulls\"] = orders[\"time\"].isnull().sum()\n",
    "informe[\"orders\"][\"columns\"][\"time\"][\"n_unique\"] = orders[\"time\"].nunique()"
   ]
  },
  {
   "cell_type": "markdown",
   "metadata": {},
   "source": [
    "#### order_details.csv"
   ]
  },
  {
   "cell_type": "code",
   "execution_count": 8,
   "metadata": {},
   "outputs": [
    {
     "data": {
      "text/html": [
       "<div>\n",
       "<style scoped>\n",
       "    .dataframe tbody tr th:only-of-type {\n",
       "        vertical-align: middle;\n",
       "    }\n",
       "\n",
       "    .dataframe tbody tr th {\n",
       "        vertical-align: top;\n",
       "    }\n",
       "\n",
       "    .dataframe thead th {\n",
       "        text-align: right;\n",
       "    }\n",
       "</style>\n",
       "<table border=\"1\" class=\"dataframe\">\n",
       "  <thead>\n",
       "    <tr style=\"text-align: right;\">\n",
       "      <th></th>\n",
       "      <th>order_details_id</th>\n",
       "      <th>order_id</th>\n",
       "      <th>pizza_id</th>\n",
       "      <th>quantity</th>\n",
       "    </tr>\n",
       "  </thead>\n",
       "  <tbody>\n",
       "    <tr>\n",
       "      <th>0</th>\n",
       "      <td>21671</td>\n",
       "      <td>9513</td>\n",
       "      <td>cali-ckn-m</td>\n",
       "      <td>NaN</td>\n",
       "    </tr>\n",
       "    <tr>\n",
       "      <th>1</th>\n",
       "      <td>17259</td>\n",
       "      <td>7591</td>\n",
       "      <td>green garden s</td>\n",
       "      <td>1</td>\n",
       "    </tr>\n",
       "    <tr>\n",
       "      <th>2</th>\n",
       "      <td>19844</td>\n",
       "      <td>8724</td>\n",
       "      <td>the-greek-xl</td>\n",
       "      <td>1</td>\n",
       "    </tr>\n",
       "    <tr>\n",
       "      <th>3</th>\n",
       "      <td>24185</td>\n",
       "      <td>10625</td>\n",
       "      <td>NaN</td>\n",
       "      <td>1</td>\n",
       "    </tr>\n",
       "    <tr>\n",
       "      <th>4</th>\n",
       "      <td>13779</td>\n",
       "      <td>6037</td>\n",
       "      <td>thai_ckn_m</td>\n",
       "      <td>1</td>\n",
       "    </tr>\n",
       "  </tbody>\n",
       "</table>\n",
       "</div>"
      ],
      "text/plain": [
       "   order_details_id  order_id        pizza_id quantity\n",
       "0             21671      9513      cali-ckn-m      NaN\n",
       "1             17259      7591  green garden s        1\n",
       "2             19844      8724    the-greek-xl        1\n",
       "3             24185     10625             NaN        1\n",
       "4             13779      6037      thai_ckn_m        1"
      ]
     },
     "execution_count": 8,
     "metadata": {},
     "output_type": "execute_result"
    }
   ],
   "source": [
    "informe[\"order_details\"][\"desciption\"] = \"csv with information about each order made in 2016\"\n",
    "informe[\"order_details\"][\"n_rows\"] = order_details.shape[0]\n",
    "informe[\"order_details\"][\"n_columns\"] = order_details.shape[1]\n",
    "informe[\"order_details\"][\"columns\"] = {}\n",
    "order_details.head()"
   ]
  },
  {
   "cell_type": "markdown",
   "metadata": {},
   "source": [
    "order_details_id"
   ]
  },
  {
   "cell_type": "code",
   "execution_count": 9,
   "metadata": {},
   "outputs": [],
   "source": [
    "informe[\"order_details\"][\"columns\"][\"order_details_id\"] = {}\n",
    "informe[\"order_details\"][\"columns\"][\"order_details_id\"][\"description\"] = \"unique id for each pizza in each order\"\n",
    "informe[\"order_details\"][\"columns\"][\"order_details_id\"][\"n_nulls\"] = order_details[\"order_details_id\"].isnull().sum()\n",
    "informe[\"order_details\"][\"columns\"][\"order_details_id\"][\"n_unique\"] = order_details[\"order_details_id\"].nunique()"
   ]
  },
  {
   "cell_type": "markdown",
   "metadata": {},
   "source": [
    "order_id"
   ]
  },
  {
   "cell_type": "code",
   "execution_count": 10,
   "metadata": {},
   "outputs": [],
   "source": [
    "informe[\"order_details\"][\"columns\"][\"order_id\"] = {}\n",
    "informe[\"order_details\"][\"columns\"][\"order_id\"][\"description\"] = \"unique id for each order\"\n",
    "informe[\"order_details\"][\"columns\"][\"order_id\"][\"n_nulls\"] = order_details[\"order_id\"].isnull().sum()\n",
    "informe[\"order_details\"][\"columns\"][\"order_id\"][\"n_unique\"] = order_details[\"order_id\"].nunique()"
   ]
  },
  {
   "cell_type": "markdown",
   "metadata": {},
   "source": [
    "pizza_id"
   ]
  },
  {
   "cell_type": "code",
   "execution_count": 11,
   "metadata": {},
   "outputs": [],
   "source": [
    "informe[\"order_details\"][\"columns\"][\"pizza_id\"] = {}\n",
    "informe[\"order_details\"][\"columns\"][\"pizza_id\"][\"description\"] = \"unique id for each pizza and size\"\n",
    "informe[\"order_details\"][\"columns\"][\"pizza_id\"][\"n_nulls\"] = order_details[\"pizza_id\"].isnull().sum()\n",
    "informe[\"order_details\"][\"columns\"][\"pizza_id\"][\"n_unique\"] = order_details[\"pizza_id\"].nunique()"
   ]
  },
  {
   "cell_type": "markdown",
   "metadata": {},
   "source": [
    "quantity"
   ]
  },
  {
   "cell_type": "code",
   "execution_count": 12,
   "metadata": {},
   "outputs": [],
   "source": [
    "informe[\"order_details\"][\"columns\"][\"quantity\"] = {}\n",
    "informe[\"order_details\"][\"columns\"][\"quantity\"][\"description\"] = \"number of pizzas ordered\"\n",
    "informe[\"order_details\"][\"columns\"][\"quantity\"][\"n_nulls\"] = order_details[\"quantity\"].isnull().sum()\n",
    "informe[\"order_details\"][\"columns\"][\"quantity\"][\"n_unique\"] = order_details[\"quantity\"].nunique()"
   ]
  },
  {
   "cell_type": "markdown",
   "metadata": {},
   "source": [
    "### pizza_types.csv"
   ]
  },
  {
   "cell_type": "code",
   "execution_count": 13,
   "metadata": {},
   "outputs": [
    {
     "data": {
      "text/html": [
       "<div>\n",
       "<style scoped>\n",
       "    .dataframe tbody tr th:only-of-type {\n",
       "        vertical-align: middle;\n",
       "    }\n",
       "\n",
       "    .dataframe tbody tr th {\n",
       "        vertical-align: top;\n",
       "    }\n",
       "\n",
       "    .dataframe thead th {\n",
       "        text-align: right;\n",
       "    }\n",
       "</style>\n",
       "<table border=\"1\" class=\"dataframe\">\n",
       "  <thead>\n",
       "    <tr style=\"text-align: right;\">\n",
       "      <th></th>\n",
       "      <th>pizza_type_id</th>\n",
       "      <th>name</th>\n",
       "      <th>category</th>\n",
       "      <th>ingredients</th>\n",
       "    </tr>\n",
       "  </thead>\n",
       "  <tbody>\n",
       "    <tr>\n",
       "      <th>0</th>\n",
       "      <td>bbq_ckn</td>\n",
       "      <td>The Barbecue Chicken Pizza</td>\n",
       "      <td>Chicken</td>\n",
       "      <td>Barbecued Chicken, Red Peppers, Green Peppers,...</td>\n",
       "    </tr>\n",
       "    <tr>\n",
       "      <th>1</th>\n",
       "      <td>cali_ckn</td>\n",
       "      <td>The California Chicken Pizza</td>\n",
       "      <td>Chicken</td>\n",
       "      <td>Chicken, Artichoke, Spinach, Garlic, Jalapeno ...</td>\n",
       "    </tr>\n",
       "    <tr>\n",
       "      <th>2</th>\n",
       "      <td>ckn_alfredo</td>\n",
       "      <td>The Chicken Alfredo Pizza</td>\n",
       "      <td>Chicken</td>\n",
       "      <td>Chicken, Red Onions, Red Peppers, Mushrooms, A...</td>\n",
       "    </tr>\n",
       "    <tr>\n",
       "      <th>3</th>\n",
       "      <td>ckn_pesto</td>\n",
       "      <td>The Chicken Pesto Pizza</td>\n",
       "      <td>Chicken</td>\n",
       "      <td>Chicken, Tomatoes, Red Peppers, Spinach, Garli...</td>\n",
       "    </tr>\n",
       "    <tr>\n",
       "      <th>4</th>\n",
       "      <td>southw_ckn</td>\n",
       "      <td>The Southwest Chicken Pizza</td>\n",
       "      <td>Chicken</td>\n",
       "      <td>Chicken, Tomatoes, Red Peppers, Red Onions, Ja...</td>\n",
       "    </tr>\n",
       "  </tbody>\n",
       "</table>\n",
       "</div>"
      ],
      "text/plain": [
       "  pizza_type_id                          name category  \\\n",
       "0       bbq_ckn    The Barbecue Chicken Pizza  Chicken   \n",
       "1      cali_ckn  The California Chicken Pizza  Chicken   \n",
       "2   ckn_alfredo     The Chicken Alfredo Pizza  Chicken   \n",
       "3     ckn_pesto       The Chicken Pesto Pizza  Chicken   \n",
       "4    southw_ckn   The Southwest Chicken Pizza  Chicken   \n",
       "\n",
       "                                         ingredients  \n",
       "0  Barbecued Chicken, Red Peppers, Green Peppers,...  \n",
       "1  Chicken, Artichoke, Spinach, Garlic, Jalapeno ...  \n",
       "2  Chicken, Red Onions, Red Peppers, Mushrooms, A...  \n",
       "3  Chicken, Tomatoes, Red Peppers, Spinach, Garli...  \n",
       "4  Chicken, Tomatoes, Red Peppers, Red Onions, Ja...  "
      ]
     },
     "execution_count": 13,
     "metadata": {},
     "output_type": "execute_result"
    }
   ],
   "source": [
    "informe[\"pizza_types\"][\"desciption\"] = \"csv with information about each pizza and its ingredients\"\n",
    "informe[\"pizza_types\"][\"n_rows\"] = pizza_ingredients.shape[0]\n",
    "informe[\"pizza_types\"][\"n_columns\"] = pizza_ingredients.shape[1]\n",
    "informe[\"pizza_types\"][\"columns\"] = {}\n",
    "pizza_ingredients.head()"
   ]
  },
  {
   "cell_type": "markdown",
   "metadata": {},
   "source": [
    "pizza_type_id"
   ]
  },
  {
   "cell_type": "code",
   "execution_count": 14,
   "metadata": {},
   "outputs": [],
   "source": [
    "informe[\"pizza_types\"][\"columns\"][\"pizza_type_id\"] = {}\n",
    "informe[\"pizza_types\"][\"columns\"][\"pizza_type_id\"][\"description\"] = \"unique id for each pizza without size\"\n",
    "informe[\"pizza_types\"][\"columns\"][\"pizza_type_id\"][\"n_nulls\"] = pizza_ingredients[\"pizza_type_id\"].isnull().sum()\n",
    "informe[\"pizza_types\"][\"columns\"][\"pizza_type_id\"][\"n_unique\"] = pizza_ingredients[\"pizza_type_id\"].nunique()"
   ]
  },
  {
   "cell_type": "markdown",
   "metadata": {},
   "source": [
    "name"
   ]
  },
  {
   "cell_type": "code",
   "execution_count": 15,
   "metadata": {},
   "outputs": [],
   "source": [
    "informe[\"pizza_types\"][\"columns\"][\"name\"] = {}\n",
    "informe[\"pizza_types\"][\"columns\"][\"name\"][\"description\"] = \"full name of the pizza\"\n",
    "informe[\"pizza_types\"][\"columns\"][\"name\"][\"n_nulls\"] = pizza_ingredients[\"name\"].isnull().sum()\n",
    "informe[\"pizza_types\"][\"columns\"][\"name\"][\"n_unique\"] = pizza_ingredients[\"name\"].nunique()"
   ]
  },
  {
   "cell_type": "markdown",
   "metadata": {},
   "source": [
    "category"
   ]
  },
  {
   "cell_type": "code",
   "execution_count": 16,
   "metadata": {},
   "outputs": [],
   "source": [
    "informe[\"pizza_types\"][\"columns\"][\"category\"] = {}\n",
    "informe[\"pizza_types\"][\"columns\"][\"category\"][\"description\"] = \"category of the pizza\"\n",
    "informe[\"pizza_types\"][\"columns\"][\"category\"][\"n_nulls\"] = pizza_ingredients[\"category\"].isnull().sum()\n",
    "informe[\"pizza_types\"][\"columns\"][\"category\"][\"n_unique\"] = pizza_ingredients[\"category\"].nunique()"
   ]
  },
  {
   "cell_type": "markdown",
   "metadata": {},
   "source": [
    "ingredients"
   ]
  },
  {
   "cell_type": "code",
   "execution_count": 17,
   "metadata": {},
   "outputs": [],
   "source": [
    "informe[\"pizza_types\"][\"columns\"][\"ingredients\"] = {}\n",
    "informe[\"pizza_types\"][\"columns\"][\"ingredients\"][\"description\"] = \"ingredients of the pizza\"\n",
    "informe[\"pizza_types\"][\"columns\"][\"ingredients\"][\"n_nulls\"] = pizza_ingredients[\"ingredients\"].isnull().sum()\n",
    "informe[\"pizza_types\"][\"columns\"][\"ingredients\"][\"n_unique\"] = pizza_ingredients[\"ingredients\"].nunique()"
   ]
  },
  {
   "cell_type": "markdown",
   "metadata": {},
   "source": [
    "### Save Report in JSON"
   ]
  },
  {
   "cell_type": "code",
   "execution_count": 18,
   "metadata": {},
   "outputs": [],
   "source": [
    "'''parse every int64 to python int'''\n",
    "def recursive_int64_to_int(x):\n",
    "    if isinstance(x, dict):\n",
    "        for key, value in x.items():\n",
    "            x[key] = recursive_int64_to_int(value)\n",
    "    elif isinstance(x, np.int64) or isinstance(x, np.int32):\n",
    "        x = int(x)\n",
    "    return x\n",
    "\n",
    "informe = recursive_int64_to_int(informe)\n",
    "\n",
    "json.dump(informe, open(\"informe_calidad_datos.json\", \"w\"))"
   ]
  },
  {
   "cell_type": "markdown",
   "metadata": {},
   "source": [
    "## Transform Data"
   ]
  },
  {
   "cell_type": "markdown",
   "metadata": {},
   "source": [
    "- The task is to predict a ingredient distribution for a given day.  \n",
    "- To achieve that, the best way to store the data would be as a dataframe with dates\n",
    "as index and ingredients as columns,  \n",
    " so that each row is an ingredient distribution of that date, and can thus the dataframe can be directly used as the X data matrix in our model later on."
   ]
  },
  {
   "cell_type": "markdown",
   "metadata": {},
   "source": [
    "### Parse Types, Clean Data and Remove Irrelevant information"
   ]
  },
  {
   "cell_type": "markdown",
   "metadata": {},
   "source": [
    "## Clean orders.csv"
   ]
  },
  {
   "cell_type": "code",
   "execution_count": 19,
   "metadata": {},
   "outputs": [
    {
     "data": {
      "text/html": [
       "<div>\n",
       "<style scoped>\n",
       "    .dataframe tbody tr th:only-of-type {\n",
       "        vertical-align: middle;\n",
       "    }\n",
       "\n",
       "    .dataframe tbody tr th {\n",
       "        vertical-align: top;\n",
       "    }\n",
       "\n",
       "    .dataframe thead th {\n",
       "        text-align: right;\n",
       "    }\n",
       "</style>\n",
       "<table border=\"1\" class=\"dataframe\">\n",
       "  <thead>\n",
       "    <tr style=\"text-align: right;\">\n",
       "      <th></th>\n",
       "      <th>order_id</th>\n",
       "      <th>date</th>\n",
       "    </tr>\n",
       "  </thead>\n",
       "  <tbody>\n",
       "    <tr>\n",
       "      <th>0</th>\n",
       "      <td>8886</td>\n",
       "      <td>May 29 2016</td>\n",
       "    </tr>\n",
       "    <tr>\n",
       "      <th>1</th>\n",
       "      <td>11424</td>\n",
       "      <td>2016-07-10</td>\n",
       "    </tr>\n",
       "    <tr>\n",
       "      <th>2</th>\n",
       "      <td>19361</td>\n",
       "      <td>Saturday,26 November, 2016</td>\n",
       "    </tr>\n",
       "    <tr>\n",
       "      <th>3</th>\n",
       "      <td>4489</td>\n",
       "      <td>2016-03-17</td>\n",
       "    </tr>\n",
       "    <tr>\n",
       "      <th>5</th>\n",
       "      <td>7112</td>\n",
       "      <td>Apr 30 2016</td>\n",
       "    </tr>\n",
       "    <tr>\n",
       "      <th>...</th>\n",
       "      <td>...</td>\n",
       "      <td>...</td>\n",
       "    </tr>\n",
       "    <tr>\n",
       "      <th>21345</th>\n",
       "      <td>1989</td>\n",
       "      <td>Tuesday,02 February, 2016</td>\n",
       "    </tr>\n",
       "    <tr>\n",
       "      <th>21346</th>\n",
       "      <td>3795</td>\n",
       "      <td>Mar 5 2016</td>\n",
       "    </tr>\n",
       "    <tr>\n",
       "      <th>21347</th>\n",
       "      <td>6474</td>\n",
       "      <td>19-04-16 16:20:01</td>\n",
       "    </tr>\n",
       "    <tr>\n",
       "      <th>21348</th>\n",
       "      <td>20125</td>\n",
       "      <td>2016-12-08</td>\n",
       "    </tr>\n",
       "    <tr>\n",
       "      <th>21349</th>\n",
       "      <td>3602</td>\n",
       "      <td>02-03-16 14:43:05</td>\n",
       "    </tr>\n",
       "  </tbody>\n",
       "</table>\n",
       "<p>18997 rows × 2 columns</p>\n",
       "</div>"
      ],
      "text/plain": [
       "       order_id                        date\n",
       "0          8886                 May 29 2016\n",
       "1         11424                  2016-07-10\n",
       "2         19361  Saturday,26 November, 2016\n",
       "3          4489                  2016-03-17\n",
       "5          7112                 Apr 30 2016\n",
       "...         ...                         ...\n",
       "21345      1989   Tuesday,02 February, 2016\n",
       "21346      3795                  Mar 5 2016\n",
       "21347      6474           19-04-16 16:20:01\n",
       "21348     20125                  2016-12-08\n",
       "21349      3602           02-03-16 14:43:05\n",
       "\n",
       "[18997 rows x 2 columns]"
      ]
     },
     "execution_count": 19,
     "metadata": {},
     "output_type": "execute_result"
    }
   ],
   "source": [
    "'''Remove nans and irrelevant column time'''\n",
    "if \"time\" in orders.columns:\n",
    "    orders.drop(columns=[\"time\"], inplace=True)\n",
    "orders.dropna(inplace=True)\n",
    "orders"
   ]
  },
  {
   "cell_type": "code",
   "execution_count": 20,
   "metadata": {},
   "outputs": [
    {
     "data": {
      "text/plain": [
       "order_id    0\n",
       "date        0\n",
       "dtype: int64"
      ]
     },
     "execution_count": 20,
     "metadata": {},
     "output_type": "execute_result"
    }
   ],
   "source": [
    "orders.isnull().sum()"
   ]
  },
  {
   "cell_type": "code",
   "execution_count": 21,
   "metadata": {},
   "outputs": [
    {
     "data": {
      "text/html": [
       "<div>\n",
       "<style scoped>\n",
       "    .dataframe tbody tr th:only-of-type {\n",
       "        vertical-align: middle;\n",
       "    }\n",
       "\n",
       "    .dataframe tbody tr th {\n",
       "        vertical-align: top;\n",
       "    }\n",
       "\n",
       "    .dataframe thead th {\n",
       "        text-align: right;\n",
       "    }\n",
       "</style>\n",
       "<table border=\"1\" class=\"dataframe\">\n",
       "  <thead>\n",
       "    <tr style=\"text-align: right;\">\n",
       "      <th></th>\n",
       "      <th>order_id</th>\n",
       "      <th>date</th>\n",
       "    </tr>\n",
       "  </thead>\n",
       "  <tbody>\n",
       "    <tr>\n",
       "      <th>4160</th>\n",
       "      <td>13</td>\n",
       "      <td>2016-01-01</td>\n",
       "    </tr>\n",
       "    <tr>\n",
       "      <th>4537</th>\n",
       "      <td>5</td>\n",
       "      <td>2016-01-01</td>\n",
       "    </tr>\n",
       "    <tr>\n",
       "      <th>12764</th>\n",
       "      <td>47</td>\n",
       "      <td>2016-01-01</td>\n",
       "    </tr>\n",
       "    <tr>\n",
       "      <th>9548</th>\n",
       "      <td>62</td>\n",
       "      <td>2016-01-01</td>\n",
       "    </tr>\n",
       "    <tr>\n",
       "      <th>16677</th>\n",
       "      <td>67</td>\n",
       "      <td>2016-01-01</td>\n",
       "    </tr>\n",
       "    <tr>\n",
       "      <th>...</th>\n",
       "      <td>...</td>\n",
       "      <td>...</td>\n",
       "    </tr>\n",
       "    <tr>\n",
       "      <th>13508</th>\n",
       "      <td>21300</td>\n",
       "      <td>2016-12-31</td>\n",
       "    </tr>\n",
       "    <tr>\n",
       "      <th>19223</th>\n",
       "      <td>21322</td>\n",
       "      <td>2016-12-31</td>\n",
       "    </tr>\n",
       "    <tr>\n",
       "      <th>13876</th>\n",
       "      <td>21345</td>\n",
       "      <td>2016-12-31</td>\n",
       "    </tr>\n",
       "    <tr>\n",
       "      <th>16286</th>\n",
       "      <td>21341</td>\n",
       "      <td>2016-12-31</td>\n",
       "    </tr>\n",
       "    <tr>\n",
       "      <th>10694</th>\n",
       "      <td>21304</td>\n",
       "      <td>2016-12-31</td>\n",
       "    </tr>\n",
       "  </tbody>\n",
       "</table>\n",
       "<p>18997 rows × 2 columns</p>\n",
       "</div>"
      ],
      "text/plain": [
       "       order_id        date\n",
       "4160         13  2016-01-01\n",
       "4537          5  2016-01-01\n",
       "12764        47  2016-01-01\n",
       "9548         62  2016-01-01\n",
       "16677        67  2016-01-01\n",
       "...         ...         ...\n",
       "13508     21300  2016-12-31\n",
       "19223     21322  2016-12-31\n",
       "13876     21345  2016-12-31\n",
       "16286     21341  2016-12-31\n",
       "10694     21304  2016-12-31\n",
       "\n",
       "[18997 rows x 2 columns]"
      ]
     },
     "execution_count": 21,
     "metadata": {},
     "output_type": "execute_result"
    }
   ],
   "source": [
    "'''Parse dates'''\n",
    "def parse_date(date):\n",
    "    try:\n",
    "        '''time zone CEST'''\n",
    "        return pd.to_datetime(date)+pd.Timedelta(hours=1)\n",
    "    except Exception as e:\n",
    "        return pd.to_datetime(date,unit='s')+pd.Timedelta(hours=1)\n",
    "    \n",
    "orders[\"date\"] = orders[\"date\"].apply(parse_date).dt.date\n",
    "'''sorted dates'''\n",
    "orders.sort_values(by=\"date\", inplace=True)\n",
    "orders"
   ]
  },
  {
   "cell_type": "code",
   "execution_count": 22,
   "metadata": {},
   "outputs": [],
   "source": [
    "orders.to_csv(\"data/orders_2016_clean.csv\", index=False)"
   ]
  },
  {
   "cell_type": "markdown",
   "metadata": {},
   "source": [
    "## Clean order_details.csv"
   ]
  },
  {
   "cell_type": "code",
   "execution_count": 23,
   "metadata": {},
   "outputs": [
    {
     "data": {
      "text/html": [
       "<div>\n",
       "<style scoped>\n",
       "    .dataframe tbody tr th:only-of-type {\n",
       "        vertical-align: middle;\n",
       "    }\n",
       "\n",
       "    .dataframe tbody tr th {\n",
       "        vertical-align: top;\n",
       "    }\n",
       "\n",
       "    .dataframe thead th {\n",
       "        text-align: right;\n",
       "    }\n",
       "</style>\n",
       "<table border=\"1\" class=\"dataframe\">\n",
       "  <thead>\n",
       "    <tr style=\"text-align: right;\">\n",
       "      <th></th>\n",
       "      <th>order_id</th>\n",
       "      <th>pizza_id</th>\n",
       "      <th>quantity</th>\n",
       "    </tr>\n",
       "  </thead>\n",
       "  <tbody>\n",
       "    <tr>\n",
       "      <th>1</th>\n",
       "      <td>7591</td>\n",
       "      <td>green garden s</td>\n",
       "      <td>1</td>\n",
       "    </tr>\n",
       "    <tr>\n",
       "      <th>2</th>\n",
       "      <td>8724</td>\n",
       "      <td>the-greek-xl</td>\n",
       "      <td>1</td>\n",
       "    </tr>\n",
       "    <tr>\n",
       "      <th>4</th>\n",
       "      <td>6037</td>\n",
       "      <td>thai_ckn_m</td>\n",
       "      <td>1</td>\n",
       "    </tr>\n",
       "    <tr>\n",
       "      <th>5</th>\n",
       "      <td>10908</td>\n",
       "      <td>thai-ckn-m</td>\n",
       "      <td>1</td>\n",
       "    </tr>\n",
       "    <tr>\n",
       "      <th>6</th>\n",
       "      <td>1684</td>\n",
       "      <td>bbq_ckn_l</td>\n",
       "      <td>1</td>\n",
       "    </tr>\n",
       "    <tr>\n",
       "      <th>...</th>\n",
       "      <td>...</td>\n",
       "      <td>...</td>\n",
       "      <td>...</td>\n",
       "    </tr>\n",
       "    <tr>\n",
       "      <th>48613</th>\n",
       "      <td>15877</td>\n",
       "      <td>soppressata m</td>\n",
       "      <td>1</td>\n",
       "    </tr>\n",
       "    <tr>\n",
       "      <th>48614</th>\n",
       "      <td>14052</td>\n",
       "      <td>classic dlx m</td>\n",
       "      <td>one</td>\n",
       "    </tr>\n",
       "    <tr>\n",
       "      <th>48616</th>\n",
       "      <td>10731</td>\n",
       "      <td>the_greek_m</td>\n",
       "      <td>1</td>\n",
       "    </tr>\n",
       "    <tr>\n",
       "      <th>48617</th>\n",
       "      <td>13858</td>\n",
       "      <td>classic_dlx_l</td>\n",
       "      <td>One</td>\n",
       "    </tr>\n",
       "    <tr>\n",
       "      <th>48619</th>\n",
       "      <td>14321</td>\n",
       "      <td>cali-ckn-l</td>\n",
       "      <td>1</td>\n",
       "    </tr>\n",
       "  </tbody>\n",
       "</table>\n",
       "<p>38783 rows × 3 columns</p>\n",
       "</div>"
      ],
      "text/plain": [
       "       order_id        pizza_id quantity\n",
       "1          7591  green garden s        1\n",
       "2          8724    the-greek-xl        1\n",
       "4          6037      thai_ckn_m        1\n",
       "5         10908      thai-ckn-m        1\n",
       "6          1684       bbq_ckn_l        1\n",
       "...         ...             ...      ...\n",
       "48613     15877   soppressata m        1\n",
       "48614     14052   classic dlx m      one\n",
       "48616     10731     the_greek_m        1\n",
       "48617     13858   classic_dlx_l      One\n",
       "48619     14321      cali-ckn-l        1\n",
       "\n",
       "[38783 rows x 3 columns]"
      ]
     },
     "execution_count": 23,
     "metadata": {},
     "output_type": "execute_result"
    }
   ],
   "source": [
    "'''Remove nans and irrelevant column order_details_id'''\n",
    "if \"order_details_id\" in order_details.columns:\n",
    "    order_details.drop(columns=[\"order_details_id\"], inplace=True)\n",
    "order_details.dropna(inplace=True)\n",
    "order_details"
   ]
  },
  {
   "cell_type": "code",
   "execution_count": 24,
   "metadata": {},
   "outputs": [
    {
     "data": {
      "text/plain": [
       "big_meat_s        893\n",
       "five_cheese_l     709\n",
       "thai_ckn_l        670\n",
       "four_cheese_l     611\n",
       "classic_dlx_m     566\n",
       "                 ... \n",
       "peppr s@l@mi s      1\n",
       "spin@ch_f3t_s       1\n",
       "s0ppress@t@ m       1\n",
       "c@l@br3s3 l         1\n",
       "c@l@brese-l         1\n",
       "Name: pizza_id, Length: 698, dtype: int64"
      ]
     },
     "execution_count": 24,
     "metadata": {},
     "output_type": "execute_result"
    }
   ],
   "source": [
    "'''explore pizza_id'''\n",
    "order_details[\"pizza_id\"].value_counts()"
   ]
  },
  {
   "cell_type": "code",
   "execution_count": 25,
   "metadata": {},
   "outputs": [
    {
     "data": {
      "text/plain": [
       "{'0', '3', '@'}"
      ]
     },
     "execution_count": 25,
     "metadata": {},
     "output_type": "execute_result"
    }
   ],
   "source": [
    "'''find non alphabetical characters in pizza_id'''\n",
    "non_alpha_pattern = re.compile(r\"[^a-z _-]\")\n",
    "non_alpha=set()\n",
    "for pizza_id in order_details[\"pizza_id\"]:\n",
    "    non_alpha.update(non_alpha_pattern.findall(pizza_id))\n",
    "non_alpha"
   ]
  },
  {
   "cell_type": "code",
   "execution_count": 26,
   "metadata": {},
   "outputs": [
    {
     "data": {
      "text/html": [
       "<div>\n",
       "<style scoped>\n",
       "    .dataframe tbody tr th:only-of-type {\n",
       "        vertical-align: middle;\n",
       "    }\n",
       "\n",
       "    .dataframe tbody tr th {\n",
       "        vertical-align: top;\n",
       "    }\n",
       "\n",
       "    .dataframe thead th {\n",
       "        text-align: right;\n",
       "    }\n",
       "</style>\n",
       "<table border=\"1\" class=\"dataframe\">\n",
       "  <thead>\n",
       "    <tr style=\"text-align: right;\">\n",
       "      <th></th>\n",
       "      <th>order_id</th>\n",
       "      <th>pizza_id</th>\n",
       "      <th>quantity</th>\n",
       "    </tr>\n",
       "  </thead>\n",
       "  <tbody>\n",
       "    <tr>\n",
       "      <th>1</th>\n",
       "      <td>7591</td>\n",
       "      <td>green_garden_s</td>\n",
       "      <td>1</td>\n",
       "    </tr>\n",
       "    <tr>\n",
       "      <th>2</th>\n",
       "      <td>8724</td>\n",
       "      <td>the_greek_xl</td>\n",
       "      <td>1</td>\n",
       "    </tr>\n",
       "    <tr>\n",
       "      <th>4</th>\n",
       "      <td>6037</td>\n",
       "      <td>thai_ckn_m</td>\n",
       "      <td>1</td>\n",
       "    </tr>\n",
       "    <tr>\n",
       "      <th>5</th>\n",
       "      <td>10908</td>\n",
       "      <td>thai_ckn_m</td>\n",
       "      <td>1</td>\n",
       "    </tr>\n",
       "    <tr>\n",
       "      <th>6</th>\n",
       "      <td>1684</td>\n",
       "      <td>bbq_ckn_l</td>\n",
       "      <td>1</td>\n",
       "    </tr>\n",
       "    <tr>\n",
       "      <th>...</th>\n",
       "      <td>...</td>\n",
       "      <td>...</td>\n",
       "      <td>...</td>\n",
       "    </tr>\n",
       "    <tr>\n",
       "      <th>48613</th>\n",
       "      <td>15877</td>\n",
       "      <td>soppressata_m</td>\n",
       "      <td>1</td>\n",
       "    </tr>\n",
       "    <tr>\n",
       "      <th>48614</th>\n",
       "      <td>14052</td>\n",
       "      <td>classic_dlx_m</td>\n",
       "      <td>one</td>\n",
       "    </tr>\n",
       "    <tr>\n",
       "      <th>48616</th>\n",
       "      <td>10731</td>\n",
       "      <td>the_greek_m</td>\n",
       "      <td>1</td>\n",
       "    </tr>\n",
       "    <tr>\n",
       "      <th>48617</th>\n",
       "      <td>13858</td>\n",
       "      <td>classic_dlx_l</td>\n",
       "      <td>One</td>\n",
       "    </tr>\n",
       "    <tr>\n",
       "      <th>48619</th>\n",
       "      <td>14321</td>\n",
       "      <td>cali_ckn_l</td>\n",
       "      <td>1</td>\n",
       "    </tr>\n",
       "  </tbody>\n",
       "</table>\n",
       "<p>38783 rows × 3 columns</p>\n",
       "</div>"
      ],
      "text/plain": [
       "       order_id        pizza_id quantity\n",
       "1          7591  green_garden_s        1\n",
       "2          8724    the_greek_xl        1\n",
       "4          6037      thai_ckn_m        1\n",
       "5         10908      thai_ckn_m        1\n",
       "6          1684       bbq_ckn_l        1\n",
       "...         ...             ...      ...\n",
       "48613     15877   soppressata_m        1\n",
       "48614     14052   classic_dlx_m      one\n",
       "48616     10731     the_greek_m        1\n",
       "48617     13858   classic_dlx_l      One\n",
       "48619     14321      cali_ckn_l        1\n",
       "\n",
       "[38783 rows x 3 columns]"
      ]
     },
     "execution_count": 26,
     "metadata": {},
     "output_type": "execute_result"
    }
   ],
   "source": [
    "'''parse pizza_id'''\n",
    "def parse_pizza_id(pizza_id):\n",
    "    pid=re.sub(r\"[- ]\", \"_\", pizza_id)\n",
    "    pid=re.sub(r\"0\", \"o\", pid)\n",
    "    pid=re.sub(r\"@\", \"a\", pid)\n",
    "    pid=re.sub(r\"3\", \"e\", pid)\n",
    "    return pid.lower()\n",
    "\n",
    "order_details[\"pizza_id\"] = order_details[\"pizza_id\"].apply(parse_pizza_id)\n",
    "order_details"
   ]
  },
  {
   "cell_type": "code",
   "execution_count": 27,
   "metadata": {},
   "outputs": [
    {
     "data": {
      "text/plain": [
       "1      30538\n",
       "one     4610\n",
       "One     1655\n",
       "-1      1223\n",
       "2        694\n",
       "-2        27\n",
       "3         19\n",
       "two       14\n",
       "4          3\n",
       "Name: quantity, dtype: int64"
      ]
     },
     "execution_count": 27,
     "metadata": {},
     "output_type": "execute_result"
    }
   ],
   "source": [
    "'''explore quantity'''\n",
    "order_details[\"quantity\"].value_counts()"
   ]
  },
  {
   "cell_type": "code",
   "execution_count": 28,
   "metadata": {},
   "outputs": [
    {
     "data": {
      "text/plain": [
       "1.0    36803\n",
       "2.0      708\n",
       "3.0       19\n",
       "4.0        3\n",
       "Name: quantity, dtype: int64"
      ]
     },
     "execution_count": 28,
     "metadata": {},
     "output_type": "execute_result"
    }
   ],
   "source": [
    "'''Parse quantity'''\n",
    "nums={\"1\":1,\"one\":1,\"-1\":float('nan'),\"2\":2,\"-2\":float('nan'),\"3\":3,\"two\":2,\"4\":4}\n",
    "def parse_quantity(quantity):\n",
    "    return nums[str(quantity).lower()] if type(quantity)==str else quantity\n",
    "order_details[\"quantity\"] = order_details[\"quantity\"].apply(parse_quantity)\n",
    "order_details.dropna(inplace=True)\n",
    "order_details[\"quantity\"].value_counts()"
   ]
  },
  {
   "cell_type": "code",
   "execution_count": 29,
   "metadata": {},
   "outputs": [
    {
     "data": {
      "text/html": [
       "<div>\n",
       "<style scoped>\n",
       "    .dataframe tbody tr th:only-of-type {\n",
       "        vertical-align: middle;\n",
       "    }\n",
       "\n",
       "    .dataframe tbody tr th {\n",
       "        vertical-align: top;\n",
       "    }\n",
       "\n",
       "    .dataframe thead th {\n",
       "        text-align: right;\n",
       "    }\n",
       "</style>\n",
       "<table border=\"1\" class=\"dataframe\">\n",
       "  <thead>\n",
       "    <tr style=\"text-align: right;\">\n",
       "      <th></th>\n",
       "      <th>order_id</th>\n",
       "      <th>pizza_id</th>\n",
       "      <th>quantity</th>\n",
       "    </tr>\n",
       "  </thead>\n",
       "  <tbody>\n",
       "    <tr>\n",
       "      <th>1</th>\n",
       "      <td>7591</td>\n",
       "      <td>green_garden_s</td>\n",
       "      <td>1.0</td>\n",
       "    </tr>\n",
       "    <tr>\n",
       "      <th>2</th>\n",
       "      <td>8724</td>\n",
       "      <td>the_greek_xl</td>\n",
       "      <td>1.0</td>\n",
       "    </tr>\n",
       "    <tr>\n",
       "      <th>4</th>\n",
       "      <td>6037</td>\n",
       "      <td>thai_ckn_m</td>\n",
       "      <td>1.0</td>\n",
       "    </tr>\n",
       "    <tr>\n",
       "      <th>5</th>\n",
       "      <td>10908</td>\n",
       "      <td>thai_ckn_m</td>\n",
       "      <td>1.0</td>\n",
       "    </tr>\n",
       "    <tr>\n",
       "      <th>6</th>\n",
       "      <td>1684</td>\n",
       "      <td>bbq_ckn_l</td>\n",
       "      <td>1.0</td>\n",
       "    </tr>\n",
       "    <tr>\n",
       "      <th>...</th>\n",
       "      <td>...</td>\n",
       "      <td>...</td>\n",
       "      <td>...</td>\n",
       "    </tr>\n",
       "    <tr>\n",
       "      <th>48613</th>\n",
       "      <td>15877</td>\n",
       "      <td>soppressata_m</td>\n",
       "      <td>1.0</td>\n",
       "    </tr>\n",
       "    <tr>\n",
       "      <th>48614</th>\n",
       "      <td>14052</td>\n",
       "      <td>classic_dlx_m</td>\n",
       "      <td>1.0</td>\n",
       "    </tr>\n",
       "    <tr>\n",
       "      <th>48616</th>\n",
       "      <td>10731</td>\n",
       "      <td>the_greek_m</td>\n",
       "      <td>1.0</td>\n",
       "    </tr>\n",
       "    <tr>\n",
       "      <th>48617</th>\n",
       "      <td>13858</td>\n",
       "      <td>classic_dlx_l</td>\n",
       "      <td>1.0</td>\n",
       "    </tr>\n",
       "    <tr>\n",
       "      <th>48619</th>\n",
       "      <td>14321</td>\n",
       "      <td>cali_ckn_l</td>\n",
       "      <td>1.0</td>\n",
       "    </tr>\n",
       "  </tbody>\n",
       "</table>\n",
       "<p>37533 rows × 3 columns</p>\n",
       "</div>"
      ],
      "text/plain": [
       "       order_id        pizza_id  quantity\n",
       "1          7591  green_garden_s       1.0\n",
       "2          8724    the_greek_xl       1.0\n",
       "4          6037      thai_ckn_m       1.0\n",
       "5         10908      thai_ckn_m       1.0\n",
       "6          1684       bbq_ckn_l       1.0\n",
       "...         ...             ...       ...\n",
       "48613     15877   soppressata_m       1.0\n",
       "48614     14052   classic_dlx_m       1.0\n",
       "48616     10731     the_greek_m       1.0\n",
       "48617     13858   classic_dlx_l       1.0\n",
       "48619     14321      cali_ckn_l       1.0\n",
       "\n",
       "[37533 rows x 3 columns]"
      ]
     },
     "execution_count": 29,
     "metadata": {},
     "output_type": "execute_result"
    }
   ],
   "source": [
    "order_details"
   ]
  },
  {
   "cell_type": "code",
   "execution_count": 30,
   "metadata": {},
   "outputs": [],
   "source": [
    "order_details.to_csv(\"data/order_details_2016_clean.csv\", index=False)"
   ]
  },
  {
   "cell_type": "markdown",
   "metadata": {},
   "source": [
    "### Clean pizza_types.csv"
   ]
  },
  {
   "cell_type": "code",
   "execution_count": 31,
   "metadata": {},
   "outputs": [
    {
     "data": {
      "text/html": [
       "<div>\n",
       "<style scoped>\n",
       "    .dataframe tbody tr th:only-of-type {\n",
       "        vertical-align: middle;\n",
       "    }\n",
       "\n",
       "    .dataframe tbody tr th {\n",
       "        vertical-align: top;\n",
       "    }\n",
       "\n",
       "    .dataframe thead th {\n",
       "        text-align: right;\n",
       "    }\n",
       "</style>\n",
       "<table border=\"1\" class=\"dataframe\">\n",
       "  <thead>\n",
       "    <tr style=\"text-align: right;\">\n",
       "      <th></th>\n",
       "      <th>pizza_type_id</th>\n",
       "      <th>name</th>\n",
       "      <th>category</th>\n",
       "      <th>ingredients</th>\n",
       "    </tr>\n",
       "  </thead>\n",
       "  <tbody>\n",
       "    <tr>\n",
       "      <th>0</th>\n",
       "      <td>bbq_ckn</td>\n",
       "      <td>The Barbecue Chicken Pizza</td>\n",
       "      <td>Chicken</td>\n",
       "      <td>Barbecued Chicken, Red Peppers, Green Peppers,...</td>\n",
       "    </tr>\n",
       "    <tr>\n",
       "      <th>1</th>\n",
       "      <td>cali_ckn</td>\n",
       "      <td>The California Chicken Pizza</td>\n",
       "      <td>Chicken</td>\n",
       "      <td>Chicken, Artichoke, Spinach, Garlic, Jalapeno ...</td>\n",
       "    </tr>\n",
       "    <tr>\n",
       "      <th>2</th>\n",
       "      <td>ckn_alfredo</td>\n",
       "      <td>The Chicken Alfredo Pizza</td>\n",
       "      <td>Chicken</td>\n",
       "      <td>Chicken, Red Onions, Red Peppers, Mushrooms, A...</td>\n",
       "    </tr>\n",
       "    <tr>\n",
       "      <th>3</th>\n",
       "      <td>ckn_pesto</td>\n",
       "      <td>The Chicken Pesto Pizza</td>\n",
       "      <td>Chicken</td>\n",
       "      <td>Chicken, Tomatoes, Red Peppers, Spinach, Garli...</td>\n",
       "    </tr>\n",
       "    <tr>\n",
       "      <th>4</th>\n",
       "      <td>southw_ckn</td>\n",
       "      <td>The Southwest Chicken Pizza</td>\n",
       "      <td>Chicken</td>\n",
       "      <td>Chicken, Tomatoes, Red Peppers, Red Onions, Ja...</td>\n",
       "    </tr>\n",
       "  </tbody>\n",
       "</table>\n",
       "</div>"
      ],
      "text/plain": [
       "  pizza_type_id                          name category  \\\n",
       "0       bbq_ckn    The Barbecue Chicken Pizza  Chicken   \n",
       "1      cali_ckn  The California Chicken Pizza  Chicken   \n",
       "2   ckn_alfredo     The Chicken Alfredo Pizza  Chicken   \n",
       "3     ckn_pesto       The Chicken Pesto Pizza  Chicken   \n",
       "4    southw_ckn   The Southwest Chicken Pizza  Chicken   \n",
       "\n",
       "                                         ingredients  \n",
       "0  Barbecued Chicken, Red Peppers, Green Peppers,...  \n",
       "1  Chicken, Artichoke, Spinach, Garlic, Jalapeno ...  \n",
       "2  Chicken, Red Onions, Red Peppers, Mushrooms, A...  \n",
       "3  Chicken, Tomatoes, Red Peppers, Spinach, Garli...  \n",
       "4  Chicken, Tomatoes, Red Peppers, Red Onions, Ja...  "
      ]
     },
     "execution_count": 31,
     "metadata": {},
     "output_type": "execute_result"
    }
   ],
   "source": [
    "pizza_ingredients.head()"
   ]
  },
  {
   "cell_type": "code",
   "execution_count": 32,
   "metadata": {},
   "outputs": [],
   "source": [
    "pizza_ingredients[\"ingredients\"]=pizza_ingredients[\"ingredients\"].str.replace(\"ï¿½\",\"\")\n",
    "pizza_ingredients[\"ingredients\"]=pizza_ingredients[\"ingredients\"].str.replace(\"Artichokes\",\"Artichoke\")"
   ]
  },
  {
   "cell_type": "code",
   "execution_count": 33,
   "metadata": {},
   "outputs": [],
   "source": [
    "pizza_ingredients.to_csv(\"data/pizza_types_2016_clean.csv\", index=False)"
   ]
  },
  {
   "cell_type": "markdown",
   "metadata": {},
   "source": [
    "### Build ingredients_per_day Dataframe"
   ]
  },
  {
   "cell_type": "markdown",
   "metadata": {},
   "source": [
    "Split pizza id into name and size"
   ]
  },
  {
   "cell_type": "code",
   "execution_count": 34,
   "metadata": {},
   "outputs": [],
   "source": [
    "if \"pizza_id\" in order_details.columns:\n",
    "    size_pattern = re.compile(r\"_([smlx]+)$\")\n",
    "    order_details[\"pizza\"] = order_details[\"pizza_id\"].apply(lambda x: re.sub(size_pattern, \"\", x))\n",
    "    order_details[\"size\"] = order_details[\"pizza_id\"].apply(lambda x: re.search(size_pattern, x).group(1))\n",
    "    order_details.drop(columns=[\"pizza_id\"], inplace=True)"
   ]
  },
  {
   "cell_type": "code",
   "execution_count": 35,
   "metadata": {},
   "outputs": [
    {
     "data": {
      "text/html": [
       "<div>\n",
       "<style scoped>\n",
       "    .dataframe tbody tr th:only-of-type {\n",
       "        vertical-align: middle;\n",
       "    }\n",
       "\n",
       "    .dataframe tbody tr th {\n",
       "        vertical-align: top;\n",
       "    }\n",
       "\n",
       "    .dataframe thead th {\n",
       "        text-align: right;\n",
       "    }\n",
       "</style>\n",
       "<table border=\"1\" class=\"dataframe\">\n",
       "  <thead>\n",
       "    <tr style=\"text-align: right;\">\n",
       "      <th></th>\n",
       "      <th>order_id</th>\n",
       "      <th>quantity</th>\n",
       "      <th>pizza</th>\n",
       "      <th>size</th>\n",
       "    </tr>\n",
       "  </thead>\n",
       "  <tbody>\n",
       "    <tr>\n",
       "      <th>1</th>\n",
       "      <td>7591</td>\n",
       "      <td>1.0</td>\n",
       "      <td>green_garden</td>\n",
       "      <td>s</td>\n",
       "    </tr>\n",
       "    <tr>\n",
       "      <th>2</th>\n",
       "      <td>8724</td>\n",
       "      <td>1.0</td>\n",
       "      <td>the_greek</td>\n",
       "      <td>xl</td>\n",
       "    </tr>\n",
       "    <tr>\n",
       "      <th>4</th>\n",
       "      <td>6037</td>\n",
       "      <td>1.0</td>\n",
       "      <td>thai_ckn</td>\n",
       "      <td>m</td>\n",
       "    </tr>\n",
       "  </tbody>\n",
       "</table>\n",
       "</div>"
      ],
      "text/plain": [
       "   order_id  quantity         pizza size\n",
       "1      7591       1.0  green_garden    s\n",
       "2      8724       1.0     the_greek   xl\n",
       "4      6037       1.0      thai_ckn    m"
      ]
     },
     "execution_count": 35,
     "metadata": {},
     "output_type": "execute_result"
    }
   ],
   "source": [
    "order_details.head(3)"
   ]
  },
  {
   "cell_type": "markdown",
   "metadata": {},
   "source": [
    "Add dates"
   ]
  },
  {
   "cell_type": "code",
   "execution_count": 36,
   "metadata": {},
   "outputs": [],
   "source": [
    "if not \"date\" in order_details.columns:\n",
    "    order_details=order_details.merge(orders, on=\"order_id\", how=\"left\")"
   ]
  },
  {
   "cell_type": "code",
   "execution_count": 37,
   "metadata": {},
   "outputs": [
    {
     "data": {
      "text/html": [
       "<div>\n",
       "<style scoped>\n",
       "    .dataframe tbody tr th:only-of-type {\n",
       "        vertical-align: middle;\n",
       "    }\n",
       "\n",
       "    .dataframe tbody tr th {\n",
       "        vertical-align: top;\n",
       "    }\n",
       "\n",
       "    .dataframe thead th {\n",
       "        text-align: right;\n",
       "    }\n",
       "</style>\n",
       "<table border=\"1\" class=\"dataframe\">\n",
       "  <thead>\n",
       "    <tr style=\"text-align: right;\">\n",
       "      <th></th>\n",
       "      <th>order_id</th>\n",
       "      <th>quantity</th>\n",
       "      <th>pizza</th>\n",
       "      <th>size</th>\n",
       "      <th>date</th>\n",
       "    </tr>\n",
       "  </thead>\n",
       "  <tbody>\n",
       "    <tr>\n",
       "      <th>0</th>\n",
       "      <td>7591</td>\n",
       "      <td>1.0</td>\n",
       "      <td>green_garden</td>\n",
       "      <td>s</td>\n",
       "      <td>2016-08-05</td>\n",
       "    </tr>\n",
       "    <tr>\n",
       "      <th>1</th>\n",
       "      <td>8724</td>\n",
       "      <td>1.0</td>\n",
       "      <td>the_greek</td>\n",
       "      <td>xl</td>\n",
       "      <td>2016-05-26</td>\n",
       "    </tr>\n",
       "    <tr>\n",
       "      <th>2</th>\n",
       "      <td>6037</td>\n",
       "      <td>1.0</td>\n",
       "      <td>thai_ckn</td>\n",
       "      <td>m</td>\n",
       "      <td>2016-04-12</td>\n",
       "    </tr>\n",
       "  </tbody>\n",
       "</table>\n",
       "</div>"
      ],
      "text/plain": [
       "   order_id  quantity         pizza size        date\n",
       "0      7591       1.0  green_garden    s  2016-08-05\n",
       "1      8724       1.0     the_greek   xl  2016-05-26\n",
       "2      6037       1.0      thai_ckn    m  2016-04-12"
      ]
     },
     "execution_count": 37,
     "metadata": {},
     "output_type": "execute_result"
    }
   ],
   "source": [
    "order_details.head(3)"
   ]
  },
  {
   "cell_type": "markdown",
   "metadata": {},
   "source": [
    "Add ingredients columns"
   ]
  },
  {
   "cell_type": "code",
   "execution_count": 38,
   "metadata": {},
   "outputs": [
    {
     "data": {
      "text/plain": [
       "{'Barbecued Chicken': 1,\n",
       " 'Red Peppers': 1,\n",
       " 'Green Peppers': 1,\n",
       " 'Tomatoes': 1,\n",
       " 'Red Onions': 1,\n",
       " 'Barbecue Sauce': 1}"
      ]
     },
     "execution_count": 38,
     "metadata": {},
     "output_type": "execute_result"
    }
   ],
   "source": [
    "'''Dictionary with each pizza and the ingredients it has.'''\n",
    "pizza_ingredients_dict = {}\n",
    "for index, row in pizza_ingredients.iterrows():\n",
    "    pizza_ingredients_dict[row[\"pizza_type_id\"]] = {}\n",
    "    for ingredient in row[\"ingredients\"].split(\",\"):\n",
    "        pizza_ingredients_dict[row[\"pizza_type_id\"]][ingredient.strip()] = 1\n",
    "pizza_ingredients_dict['bbq_ckn']"
   ]
  },
  {
   "cell_type": "code",
   "execution_count": 39,
   "metadata": {},
   "outputs": [
    {
     "data": {
      "text/plain": [
       "['Alfredo Sauce',\n",
       " 'Anchovies',\n",
       " 'Artichoke',\n",
       " 'Arugula',\n",
       " 'Asiago Cheese',\n",
       " 'Bacon',\n",
       " 'Barbecue Sauce',\n",
       " 'Barbecued Chicken',\n",
       " 'Beef Chuck Roast',\n",
       " 'Blue Cheese',\n",
       " 'Brie Carre Cheese',\n",
       " 'Calabrese Salami',\n",
       " 'Capocollo',\n",
       " 'Caramelized Onions',\n",
       " 'Chicken',\n",
       " 'Chipotle Sauce',\n",
       " 'Chorizo Sausage',\n",
       " 'Cilantro',\n",
       " 'Coarse Sicilian Salami',\n",
       " 'Corn',\n",
       " 'Eggplant',\n",
       " 'Feta Cheese',\n",
       " 'Fontina Cheese',\n",
       " 'Friggitello Peppers',\n",
       " 'Garlic',\n",
       " 'Genoa Salami',\n",
       " 'Goat Cheese',\n",
       " 'Gorgonzola Piccante Cheese',\n",
       " 'Gouda Cheese',\n",
       " 'Green Olives',\n",
       " 'Green Peppers',\n",
       " 'Italian Sausage',\n",
       " 'Jalapeno Peppers',\n",
       " 'Kalamata Olives',\n",
       " 'Luganega Sausage',\n",
       " 'Mozzarella Cheese',\n",
       " 'Mushrooms',\n",
       " 'Nduja Salami',\n",
       " 'Onions',\n",
       " 'Oregano',\n",
       " 'Pancetta',\n",
       " 'Parmigiano Reggiano Cheese',\n",
       " 'Pears',\n",
       " 'Peperoncini verdi',\n",
       " 'Pepperoni',\n",
       " 'Pesto Sauce',\n",
       " 'Pineapple',\n",
       " 'Plum Tomatoes',\n",
       " 'Prosciutto',\n",
       " 'Prosciutto di San Daniele',\n",
       " 'Provolone Cheese',\n",
       " 'Red Onions',\n",
       " 'Red Peppers',\n",
       " 'Ricotta Cheese',\n",
       " 'Romano Cheese',\n",
       " 'Sliced Ham',\n",
       " 'Smoked Gouda Cheese',\n",
       " 'Soppressata Salami',\n",
       " 'Spinach',\n",
       " 'Sun-dried Tomatoes',\n",
       " 'Thai Sweet Chilli Sauce',\n",
       " 'Thyme',\n",
       " 'Tomatoes',\n",
       " 'Zucchini']"
      ]
     },
     "execution_count": 39,
     "metadata": {},
     "output_type": "execute_result"
    }
   ],
   "source": [
    "'''Set with all the ingredients.'''\n",
    "ingredients_set = set()\n",
    "for pizza in pizza_ingredients_dict:\n",
    "    ingredients_set.update(pizza_ingredients_dict[pizza])\n",
    "sorted(list(ingredients_set))"
   ]
  },
  {
   "cell_type": "code",
   "execution_count": 40,
   "metadata": {},
   "outputs": [],
   "source": [
    "for ing in ingredients_set:\n",
    "    order_details[ing] = order_details[\"pizza\"].apply(lambda x: pizza_ingredients_dict[x].get(ing, 0))"
   ]
  },
  {
   "cell_type": "code",
   "execution_count": 41,
   "metadata": {},
   "outputs": [
    {
     "data": {
      "text/html": [
       "<div>\n",
       "<style scoped>\n",
       "    .dataframe tbody tr th:only-of-type {\n",
       "        vertical-align: middle;\n",
       "    }\n",
       "\n",
       "    .dataframe tbody tr th {\n",
       "        vertical-align: top;\n",
       "    }\n",
       "\n",
       "    .dataframe thead th {\n",
       "        text-align: right;\n",
       "    }\n",
       "</style>\n",
       "<table border=\"1\" class=\"dataframe\">\n",
       "  <thead>\n",
       "    <tr style=\"text-align: right;\">\n",
       "      <th></th>\n",
       "      <th>order_id</th>\n",
       "      <th>quantity</th>\n",
       "      <th>pizza</th>\n",
       "      <th>size</th>\n",
       "      <th>date</th>\n",
       "      <th>Green Peppers</th>\n",
       "      <th>Chipotle Sauce</th>\n",
       "      <th>Romano Cheese</th>\n",
       "      <th>Friggitello Peppers</th>\n",
       "      <th>Pears</th>\n",
       "      <th>...</th>\n",
       "      <th>Pancetta</th>\n",
       "      <th>Fontina Cheese</th>\n",
       "      <th>Garlic</th>\n",
       "      <th>Gouda Cheese</th>\n",
       "      <th>Pepperoni</th>\n",
       "      <th>Blue Cheese</th>\n",
       "      <th>Peperoncini verdi</th>\n",
       "      <th>Cilantro</th>\n",
       "      <th>Thai Sweet Chilli Sauce</th>\n",
       "      <th>Green Olives</th>\n",
       "    </tr>\n",
       "  </thead>\n",
       "  <tbody>\n",
       "    <tr>\n",
       "      <th>0</th>\n",
       "      <td>7591</td>\n",
       "      <td>1.0</td>\n",
       "      <td>green_garden</td>\n",
       "      <td>s</td>\n",
       "      <td>2016-08-05</td>\n",
       "      <td>0</td>\n",
       "      <td>0</td>\n",
       "      <td>0</td>\n",
       "      <td>0</td>\n",
       "      <td>0</td>\n",
       "      <td>...</td>\n",
       "      <td>0</td>\n",
       "      <td>0</td>\n",
       "      <td>0</td>\n",
       "      <td>0</td>\n",
       "      <td>0</td>\n",
       "      <td>0</td>\n",
       "      <td>0</td>\n",
       "      <td>0</td>\n",
       "      <td>0</td>\n",
       "      <td>1</td>\n",
       "    </tr>\n",
       "    <tr>\n",
       "      <th>1</th>\n",
       "      <td>8724</td>\n",
       "      <td>1.0</td>\n",
       "      <td>the_greek</td>\n",
       "      <td>xl</td>\n",
       "      <td>2016-05-26</td>\n",
       "      <td>0</td>\n",
       "      <td>0</td>\n",
       "      <td>0</td>\n",
       "      <td>0</td>\n",
       "      <td>0</td>\n",
       "      <td>...</td>\n",
       "      <td>0</td>\n",
       "      <td>0</td>\n",
       "      <td>1</td>\n",
       "      <td>0</td>\n",
       "      <td>0</td>\n",
       "      <td>0</td>\n",
       "      <td>0</td>\n",
       "      <td>0</td>\n",
       "      <td>0</td>\n",
       "      <td>0</td>\n",
       "    </tr>\n",
       "    <tr>\n",
       "      <th>2</th>\n",
       "      <td>6037</td>\n",
       "      <td>1.0</td>\n",
       "      <td>thai_ckn</td>\n",
       "      <td>m</td>\n",
       "      <td>2016-04-12</td>\n",
       "      <td>0</td>\n",
       "      <td>0</td>\n",
       "      <td>0</td>\n",
       "      <td>0</td>\n",
       "      <td>0</td>\n",
       "      <td>...</td>\n",
       "      <td>0</td>\n",
       "      <td>0</td>\n",
       "      <td>0</td>\n",
       "      <td>0</td>\n",
       "      <td>0</td>\n",
       "      <td>0</td>\n",
       "      <td>0</td>\n",
       "      <td>0</td>\n",
       "      <td>1</td>\n",
       "      <td>0</td>\n",
       "    </tr>\n",
       "  </tbody>\n",
       "</table>\n",
       "<p>3 rows × 69 columns</p>\n",
       "</div>"
      ],
      "text/plain": [
       "   order_id  quantity         pizza size        date  Green Peppers  \\\n",
       "0      7591       1.0  green_garden    s  2016-08-05              0   \n",
       "1      8724       1.0     the_greek   xl  2016-05-26              0   \n",
       "2      6037       1.0      thai_ckn    m  2016-04-12              0   \n",
       "\n",
       "   Chipotle Sauce  Romano Cheese  Friggitello Peppers  Pears  ...  Pancetta  \\\n",
       "0               0              0                    0      0  ...         0   \n",
       "1               0              0                    0      0  ...         0   \n",
       "2               0              0                    0      0  ...         0   \n",
       "\n",
       "   Fontina Cheese  Garlic  Gouda Cheese  Pepperoni  Blue Cheese  \\\n",
       "0               0       0             0          0            0   \n",
       "1               0       1             0          0            0   \n",
       "2               0       0             0          0            0   \n",
       "\n",
       "   Peperoncini verdi  Cilantro  Thai Sweet Chilli Sauce  Green Olives  \n",
       "0                  0         0                        0             1  \n",
       "1                  0         0                        0             0  \n",
       "2                  0         0                        1             0  \n",
       "\n",
       "[3 rows x 69 columns]"
      ]
     },
     "execution_count": 41,
     "metadata": {},
     "output_type": "execute_result"
    }
   ],
   "source": [
    "order_details.head(3)"
   ]
  },
  {
   "cell_type": "markdown",
   "metadata": {},
   "source": [
    "Weight each ingredient by pizza size"
   ]
  },
  {
   "cell_type": "code",
   "execution_count": 42,
   "metadata": {},
   "outputs": [],
   "source": [
    "size_weights = {\"s\": 1, \"m\": 2, \"l\": 3, \"xl\": 4, \"xxl\": 5}\n",
    "order_details[\"num_size\"] = order_details[\"size\"].apply(lambda x: size_weights[x])"
   ]
  },
  {
   "cell_type": "code",
   "execution_count": 43,
   "metadata": {},
   "outputs": [
    {
     "data": {
      "text/html": [
       "<div>\n",
       "<style scoped>\n",
       "    .dataframe tbody tr th:only-of-type {\n",
       "        vertical-align: middle;\n",
       "    }\n",
       "\n",
       "    .dataframe tbody tr th {\n",
       "        vertical-align: top;\n",
       "    }\n",
       "\n",
       "    .dataframe thead th {\n",
       "        text-align: right;\n",
       "    }\n",
       "</style>\n",
       "<table border=\"1\" class=\"dataframe\">\n",
       "  <thead>\n",
       "    <tr style=\"text-align: right;\">\n",
       "      <th></th>\n",
       "      <th>order_id</th>\n",
       "      <th>quantity</th>\n",
       "      <th>pizza</th>\n",
       "      <th>size</th>\n",
       "      <th>date</th>\n",
       "      <th>Green Peppers</th>\n",
       "      <th>Chipotle Sauce</th>\n",
       "      <th>Romano Cheese</th>\n",
       "      <th>Friggitello Peppers</th>\n",
       "      <th>Pears</th>\n",
       "      <th>...</th>\n",
       "      <th>Fontina Cheese</th>\n",
       "      <th>Garlic</th>\n",
       "      <th>Gouda Cheese</th>\n",
       "      <th>Pepperoni</th>\n",
       "      <th>Blue Cheese</th>\n",
       "      <th>Peperoncini verdi</th>\n",
       "      <th>Cilantro</th>\n",
       "      <th>Thai Sweet Chilli Sauce</th>\n",
       "      <th>Green Olives</th>\n",
       "      <th>num_size</th>\n",
       "    </tr>\n",
       "  </thead>\n",
       "  <tbody>\n",
       "    <tr>\n",
       "      <th>0</th>\n",
       "      <td>7591</td>\n",
       "      <td>1.0</td>\n",
       "      <td>green_garden</td>\n",
       "      <td>s</td>\n",
       "      <td>2016-08-05</td>\n",
       "      <td>0.0</td>\n",
       "      <td>0.0</td>\n",
       "      <td>0.0</td>\n",
       "      <td>0.0</td>\n",
       "      <td>0.0</td>\n",
       "      <td>...</td>\n",
       "      <td>0.0</td>\n",
       "      <td>0.0</td>\n",
       "      <td>0.0</td>\n",
       "      <td>0.0</td>\n",
       "      <td>0.0</td>\n",
       "      <td>0.0</td>\n",
       "      <td>0.0</td>\n",
       "      <td>0.0</td>\n",
       "      <td>1.0</td>\n",
       "      <td>1</td>\n",
       "    </tr>\n",
       "    <tr>\n",
       "      <th>1</th>\n",
       "      <td>8724</td>\n",
       "      <td>1.0</td>\n",
       "      <td>the_greek</td>\n",
       "      <td>xl</td>\n",
       "      <td>2016-05-26</td>\n",
       "      <td>0.0</td>\n",
       "      <td>0.0</td>\n",
       "      <td>0.0</td>\n",
       "      <td>0.0</td>\n",
       "      <td>0.0</td>\n",
       "      <td>...</td>\n",
       "      <td>0.0</td>\n",
       "      <td>4.0</td>\n",
       "      <td>0.0</td>\n",
       "      <td>0.0</td>\n",
       "      <td>0.0</td>\n",
       "      <td>0.0</td>\n",
       "      <td>0.0</td>\n",
       "      <td>0.0</td>\n",
       "      <td>0.0</td>\n",
       "      <td>4</td>\n",
       "    </tr>\n",
       "    <tr>\n",
       "      <th>2</th>\n",
       "      <td>6037</td>\n",
       "      <td>1.0</td>\n",
       "      <td>thai_ckn</td>\n",
       "      <td>m</td>\n",
       "      <td>2016-04-12</td>\n",
       "      <td>0.0</td>\n",
       "      <td>0.0</td>\n",
       "      <td>0.0</td>\n",
       "      <td>0.0</td>\n",
       "      <td>0.0</td>\n",
       "      <td>...</td>\n",
       "      <td>0.0</td>\n",
       "      <td>0.0</td>\n",
       "      <td>0.0</td>\n",
       "      <td>0.0</td>\n",
       "      <td>0.0</td>\n",
       "      <td>0.0</td>\n",
       "      <td>0.0</td>\n",
       "      <td>2.0</td>\n",
       "      <td>0.0</td>\n",
       "      <td>2</td>\n",
       "    </tr>\n",
       "  </tbody>\n",
       "</table>\n",
       "<p>3 rows × 70 columns</p>\n",
       "</div>"
      ],
      "text/plain": [
       "   order_id  quantity         pizza size        date  Green Peppers  \\\n",
       "0      7591       1.0  green_garden    s  2016-08-05            0.0   \n",
       "1      8724       1.0     the_greek   xl  2016-05-26            0.0   \n",
       "2      6037       1.0      thai_ckn    m  2016-04-12            0.0   \n",
       "\n",
       "   Chipotle Sauce  Romano Cheese  Friggitello Peppers  Pears  ...  \\\n",
       "0             0.0            0.0                  0.0    0.0  ...   \n",
       "1             0.0            0.0                  0.0    0.0  ...   \n",
       "2             0.0            0.0                  0.0    0.0  ...   \n",
       "\n",
       "   Fontina Cheese  Garlic  Gouda Cheese  Pepperoni  Blue Cheese  \\\n",
       "0             0.0     0.0           0.0        0.0          0.0   \n",
       "1             0.0     4.0           0.0        0.0          0.0   \n",
       "2             0.0     0.0           0.0        0.0          0.0   \n",
       "\n",
       "   Peperoncini verdi  Cilantro  Thai Sweet Chilli Sauce  Green Olives  \\\n",
       "0                0.0       0.0                      0.0           1.0   \n",
       "1                0.0       0.0                      0.0           0.0   \n",
       "2                0.0       0.0                      2.0           0.0   \n",
       "\n",
       "   num_size  \n",
       "0         1  \n",
       "1         4  \n",
       "2         2  \n",
       "\n",
       "[3 rows x 70 columns]"
      ]
     },
     "execution_count": 43,
     "metadata": {},
     "output_type": "execute_result"
    }
   ],
   "source": [
    "if not already_multiplied:\n",
    "    for ing in ingredients_set:\n",
    "        order_details[ing] = order_details[ing] * order_details[\"quantity\"] * order_details[\"num_size\"]\n",
    "    already_multiplied = True\n",
    "order_details.head(3)"
   ]
  },
  {
   "cell_type": "code",
   "execution_count": 44,
   "metadata": {},
   "outputs": [],
   "source": [
    "'''Dataframe with ingredients for each day.'''\n",
    "columns = [\"date\"] + list(ingredients_set)\n",
    "ingredients_per_day = order_details[columns].groupby(\"date\").sum()"
   ]
  },
  {
   "cell_type": "code",
   "execution_count": 45,
   "metadata": {},
   "outputs": [],
   "source": [
    "'''Sort ingredient columns by alphabetical order.'''\n",
    "ingredients_per_day = ingredients_per_day.reindex(sorted(ingredients_per_day.columns), axis=1)"
   ]
  },
  {
   "cell_type": "code",
   "execution_count": 46,
   "metadata": {},
   "outputs": [
    {
     "data": {
      "text/html": [
       "<div>\n",
       "<style scoped>\n",
       "    .dataframe tbody tr th:only-of-type {\n",
       "        vertical-align: middle;\n",
       "    }\n",
       "\n",
       "    .dataframe tbody tr th {\n",
       "        vertical-align: top;\n",
       "    }\n",
       "\n",
       "    .dataframe thead th {\n",
       "        text-align: right;\n",
       "    }\n",
       "</style>\n",
       "<table border=\"1\" class=\"dataframe\">\n",
       "  <thead>\n",
       "    <tr style=\"text-align: right;\">\n",
       "      <th></th>\n",
       "      <th>Alfredo Sauce</th>\n",
       "      <th>Anchovies</th>\n",
       "      <th>Artichoke</th>\n",
       "      <th>Arugula</th>\n",
       "      <th>Asiago Cheese</th>\n",
       "      <th>Bacon</th>\n",
       "      <th>Barbecue Sauce</th>\n",
       "      <th>Barbecued Chicken</th>\n",
       "      <th>Beef Chuck Roast</th>\n",
       "      <th>Blue Cheese</th>\n",
       "      <th>...</th>\n",
       "      <th>Romano Cheese</th>\n",
       "      <th>Sliced Ham</th>\n",
       "      <th>Smoked Gouda Cheese</th>\n",
       "      <th>Soppressata Salami</th>\n",
       "      <th>Spinach</th>\n",
       "      <th>Sun-dried Tomatoes</th>\n",
       "      <th>Thai Sweet Chilli Sauce</th>\n",
       "      <th>Thyme</th>\n",
       "      <th>Tomatoes</th>\n",
       "      <th>Zucchini</th>\n",
       "    </tr>\n",
       "    <tr>\n",
       "      <th>date</th>\n",
       "      <th></th>\n",
       "      <th></th>\n",
       "      <th></th>\n",
       "      <th></th>\n",
       "      <th></th>\n",
       "      <th></th>\n",
       "      <th></th>\n",
       "      <th></th>\n",
       "      <th></th>\n",
       "      <th></th>\n",
       "      <th></th>\n",
       "      <th></th>\n",
       "      <th></th>\n",
       "      <th></th>\n",
       "      <th></th>\n",
       "      <th></th>\n",
       "      <th></th>\n",
       "      <th></th>\n",
       "      <th></th>\n",
       "      <th></th>\n",
       "      <th></th>\n",
       "    </tr>\n",
       "  </thead>\n",
       "  <tbody>\n",
       "    <tr>\n",
       "      <th>2016-01-01</th>\n",
       "      <td>3.0</td>\n",
       "      <td>4.0</td>\n",
       "      <td>24.0</td>\n",
       "      <td>2.0</td>\n",
       "      <td>12.0</td>\n",
       "      <td>22.0</td>\n",
       "      <td>18.0</td>\n",
       "      <td>18.0</td>\n",
       "      <td>6.0</td>\n",
       "      <td>15.0</td>\n",
       "      <td>...</td>\n",
       "      <td>15.0</td>\n",
       "      <td>6.0</td>\n",
       "      <td>15.0</td>\n",
       "      <td>3.0</td>\n",
       "      <td>33.0</td>\n",
       "      <td>10.0</td>\n",
       "      <td>13.0</td>\n",
       "      <td>0.0</td>\n",
       "      <td>139.0</td>\n",
       "      <td>7.0</td>\n",
       "    </tr>\n",
       "    <tr>\n",
       "      <th>2016-01-02</th>\n",
       "      <td>0.0</td>\n",
       "      <td>11.0</td>\n",
       "      <td>55.0</td>\n",
       "      <td>6.0</td>\n",
       "      <td>8.0</td>\n",
       "      <td>16.0</td>\n",
       "      <td>13.0</td>\n",
       "      <td>13.0</td>\n",
       "      <td>10.0</td>\n",
       "      <td>12.0</td>\n",
       "      <td>...</td>\n",
       "      <td>12.0</td>\n",
       "      <td>11.0</td>\n",
       "      <td>12.0</td>\n",
       "      <td>11.0</td>\n",
       "      <td>39.0</td>\n",
       "      <td>6.0</td>\n",
       "      <td>19.0</td>\n",
       "      <td>0.0</td>\n",
       "      <td>165.0</td>\n",
       "      <td>15.0</td>\n",
       "    </tr>\n",
       "    <tr>\n",
       "      <th>2016-01-03</th>\n",
       "      <td>3.0</td>\n",
       "      <td>3.0</td>\n",
       "      <td>48.0</td>\n",
       "      <td>11.0</td>\n",
       "      <td>12.0</td>\n",
       "      <td>12.0</td>\n",
       "      <td>16.0</td>\n",
       "      <td>16.0</td>\n",
       "      <td>8.0</td>\n",
       "      <td>12.0</td>\n",
       "      <td>...</td>\n",
       "      <td>12.0</td>\n",
       "      <td>12.0</td>\n",
       "      <td>12.0</td>\n",
       "      <td>3.0</td>\n",
       "      <td>53.0</td>\n",
       "      <td>12.0</td>\n",
       "      <td>12.0</td>\n",
       "      <td>1.0</td>\n",
       "      <td>127.0</td>\n",
       "      <td>18.0</td>\n",
       "    </tr>\n",
       "  </tbody>\n",
       "</table>\n",
       "<p>3 rows × 64 columns</p>\n",
       "</div>"
      ],
      "text/plain": [
       "            Alfredo Sauce  Anchovies  Artichoke  Arugula  Asiago Cheese  \\\n",
       "date                                                                      \n",
       "2016-01-01            3.0        4.0       24.0      2.0           12.0   \n",
       "2016-01-02            0.0       11.0       55.0      6.0            8.0   \n",
       "2016-01-03            3.0        3.0       48.0     11.0           12.0   \n",
       "\n",
       "            Bacon  Barbecue Sauce  Barbecued Chicken  Beef Chuck Roast  \\\n",
       "date                                                                     \n",
       "2016-01-01   22.0            18.0               18.0               6.0   \n",
       "2016-01-02   16.0            13.0               13.0              10.0   \n",
       "2016-01-03   12.0            16.0               16.0               8.0   \n",
       "\n",
       "            Blue Cheese  ...  Romano Cheese  Sliced Ham  Smoked Gouda Cheese  \\\n",
       "date                     ...                                                   \n",
       "2016-01-01         15.0  ...           15.0         6.0                 15.0   \n",
       "2016-01-02         12.0  ...           12.0        11.0                 12.0   \n",
       "2016-01-03         12.0  ...           12.0        12.0                 12.0   \n",
       "\n",
       "            Soppressata Salami  Spinach  Sun-dried Tomatoes  \\\n",
       "date                                                          \n",
       "2016-01-01                 3.0     33.0                10.0   \n",
       "2016-01-02                11.0     39.0                 6.0   \n",
       "2016-01-03                 3.0     53.0                12.0   \n",
       "\n",
       "            Thai Sweet Chilli Sauce  Thyme  Tomatoes  Zucchini  \n",
       "date                                                            \n",
       "2016-01-01                     13.0    0.0     139.0       7.0  \n",
       "2016-01-02                     19.0    0.0     165.0      15.0  \n",
       "2016-01-03                     12.0    1.0     127.0      18.0  \n",
       "\n",
       "[3 rows x 64 columns]"
      ]
     },
     "execution_count": 46,
     "metadata": {},
     "output_type": "execute_result"
    }
   ],
   "source": [
    "ingredients_per_day.head(3)"
   ]
  },
  {
   "cell_type": "markdown",
   "metadata": {},
   "source": [
    "## Load"
   ]
  },
  {
   "cell_type": "code",
   "execution_count": 47,
   "metadata": {},
   "outputs": [],
   "source": [
    "ingredients_per_day.to_csv(\"data/ingredients_per_day_2016.csv\")"
   ]
  }
 ],
 "metadata": {
  "kernelspec": {
   "display_name": "Python 3.10.6 64-bit",
   "language": "python",
   "name": "python3"
  },
  "language_info": {
   "codemirror_mode": {
    "name": "ipython",
    "version": 3
   },
   "file_extension": ".py",
   "mimetype": "text/x-python",
   "name": "python",
   "nbconvert_exporter": "python",
   "pygments_lexer": "ipython3",
   "version": "3.10.6"
  },
  "orig_nbformat": 4,
  "vscode": {
   "interpreter": {
    "hash": "841fed4330da2c0f186905de144ecf4da6db16f0ca1e7f45a0769cc74be68adf"
   }
  }
 },
 "nbformat": 4,
 "nbformat_minor": 2
}
